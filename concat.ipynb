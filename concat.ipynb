{
 "cells": [
  {
   "cell_type": "code",
   "execution_count": 76,
   "metadata": {},
   "outputs": [],
   "source": [
    "import pandas as pd \n",
    "\n",
    "data = pd.read_csv('./result/output_0.csv',sep ='\\t')\n",
    "import glob\n",
    "path = './result/*.csv'\n",
    "\n",
    "\n",
    "csv_files = glob.glob(path)\n",
    "data = pd.read_csv(csv_files[0],sep = '\\t')\n",
    "for i in range(1,len(csv_files)):\n",
    "\n",
    "    data_1 = pd.read_csv(csv_files[i],sep = '\\t')\n",
    "    data = pd.concat((data,data_1),axis=0)\n",
    "\n",
    "\n"
   ]
  },
  {
   "cell_type": "code",
   "execution_count": 82,
   "metadata": {},
   "outputs": [],
   "source": [
    "# for i in rang//e(orde\n",
    "data_test = pd.read_csv('./data/task1_test_query.txt',sep= '\\t',header=None)\n",
    "order_dict = {}\n",
    "for i in range(data.shape[0]):\n",
    "    ka = data.iloc[i,:]\n",
    "    order_dict[ka[0]] = ka[1]\n",
    "\n",
    "\n",
    "data_test['target'] = [0]*127378\n"
   ]
  },
  {
   "cell_type": "code",
   "execution_count": 90,
   "metadata": {},
   "outputs": [],
   "source": [
    "for i in range(127378):\n",
    "    data_test['target'][i] = order_dict[data_test[0][i]] \n",
    "\n",
    "data_test.astype(int)\n",
    "data_test.to_csv('final_result.csv',sep = '\\t',index=False)"
   ]
  }
 ],
 "metadata": {
  "kernelspec": {
   "display_name": "cancer",
   "language": "python",
   "name": "python3"
  },
  "language_info": {
   "codemirror_mode": {
    "name": "ipython",
    "version": 3
   },
   "file_extension": ".py",
   "mimetype": "text/x-python",
   "name": "python",
   "nbconvert_exporter": "python",
   "pygments_lexer": "ipython3",
   "version": "3.8.19"
  }
 },
 "nbformat": 4,
 "nbformat_minor": 2
}
